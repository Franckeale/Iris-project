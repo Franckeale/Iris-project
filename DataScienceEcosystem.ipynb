{
 "cells": [
  {
   "cell_type": "markdown",
   "id": "b9284556",
   "metadata": {},
   "source": [
    "<center>\n",
    "    <img src=\"https://cf-courses-data.s3.us.cloud-object-storage.appdomain.cloud/IBMDeveloperSkillsNetwork-DS0105EN-SkillsNetwork/labs/Module2/images/SN_web_lightmode.png\" width=\"300\" alt=\"cognitiveclass.ai logo\">\n",
    "</center>"
   ]
  },
  {
   "cell_type": "markdown",
   "id": "7cfdcccc",
   "metadata": {},
   "source": [
    "#### Add your code below following the instructions given in the course"
   ]
  },
  {
   "cell_type": "markdown",
   "id": "b1b9b08b",
   "metadata": {},
   "source": [
    "### Guidelines for the submission:\n",
    "    \n",
    "There are a total of 25 points possible for this final project. \n",
    "\n",
    "Your grade will be based on the following Exercises:\n",
    "\n",
    "**Exercise 2** - Create a markdown cell with the title of the notebook. (1 pt)\n",
    "\n",
    "**Exercise 3** - Create a markdown cell for an introduction. (1 pt)\n",
    "\n",
    "**Exercise 4** - Create a markdown cell to list data science languages. (3 pts)\n",
    "\n",
    "**Exercise 5** - Create a markdown cell to list data science libraries. (3 pts)\n",
    "\n",
    "**Exercise 6** - Create a markdown cell with a table of Data Science tools. (3 pts)\n",
    "\n",
    "**Exercise 7** - Create a markdown cell introducing arithmetic expression examples. (1 pt)\n",
    "\n",
    "**Exercise 8** - Create a code cell to multiply and add numbers.(2 pts)\n",
    "\n",
    "**Exercise 9** - Create a code cell to convert minutes to hours. (2 pts)\n",
    "\n",
    "**Exercise 10** -Insert a markdown cell to list Objectives. (3 pts)\n",
    "\n",
    "**Exercise 11** - Create a markdown cell to indicate the Author’s name. (2 pts)\n",
    "\n",
    "**Exercise 12** - Share your notebook through GitHub (3 pts)\n",
    "\n",
    "**Exercise 13** - Take a screenshot of the first page of the notebook. (1 pt)"
   ]
  },
  {
   "cell_type": "markdown",
   "id": "87e385c7",
   "metadata": {},
   "source": [
    "# Exercise 2: Data Science Tools and Ecosystem"
   ]
  },
  {
   "cell_type": "markdown",
   "id": "914f16bb",
   "metadata": {},
   "source": [
    "## Exercise 3: Data Science Tools and Ecosystem are summarized\n",
    "\n",
    "In this notebook, we will explore the fundamental concepts and tools of Data Science. We will cover different programming languages, libraries, and tools that are commonly used in Data Science projects. We will also learn some arithmetic expressions and how to perform basic calculations in Python."
   ]
  },
  {
   "cell_type": "markdown",
   "id": "a8063bcf",
   "metadata": {},
   "source": [
    "## Exercise 4: Some of the popular languages that Data Scientists use are:\n",
    "\n",
    "- Python\n",
    "- R\n",
    "- SQL\n",
    "- Julia\n",
    "- Scala"
   ]
  },
  {
   "cell_type": "markdown",
   "id": "9afa5ceb",
   "metadata": {},
   "source": [
    "## Exercise 5: Some of the commonly used libraries used by Data Scientists include:\n",
    "\n",
    "- NumPy\n",
    "- Pandas\n",
    "- Matplotlib\n",
    "- Seaborn\n",
    "- Scikit-learn"
   ]
  },
  {
   "cell_type": "markdown",
   "id": "5678e5d1",
   "metadata": {},
   "source": [
    "### Exercise 6: Data Science Tools\n",
    "The following table lists some of the popular Data Science tools:"
   ]
  },
  {
   "cell_type": "code",
   "execution_count": 5,
   "id": "0e235aec",
   "metadata": {},
   "outputs": [
    {
     "data": {
      "text/plain": [
       "{'Jupyter Notebook': 'An open-source web application that allows you to create and share documents that contain live code, equations, visualizations and narrative text.',\n",
       " 'Apache Hadoop': 'A framework that allows for distributed storage and processing of large datasets across clusters of computers.',\n",
       " 'Apache Spark': 'An open-source distributed computing system that allows you to process large datasets quickly.',\n",
       " 'Tableau': 'A business intelligence and data visualization tool that helps people see and understand their data.',\n",
       " 'Apache Kafka': 'A distributed streaming platform that allows you to publish and subscribe to streams of records.'}"
      ]
     },
     "execution_count": 5,
     "metadata": {},
     "output_type": "execute_result"
    }
   ],
   "source": [
    "data_science_tools = {\n",
    "    'Jupyter Notebook': 'An open-source web application that allows you to create and share documents that contain live code, equations, visualizations and narrative text.',\n",
    "    'Apache Hadoop': 'A framework that allows for distributed storage and processing of large datasets across clusters of computers.',\n",
    "    'Apache Spark': 'An open-source distributed computing system that allows you to process large datasets quickly.',\n",
    "    'Tableau': 'A business intelligence and data visualization tool that helps people see and understand their data.',\n",
    "    'Apache Kafka': 'A distributed streaming platform that allows you to publish and subscribe to streams of records.'\n",
    "}\n",
    "\n",
    "data_science_tools"
   ]
  },
  {
   "cell_type": "markdown",
   "id": "dc117713",
   "metadata": {},
   "source": [
    "## Exercise 7: Below are a few examples of evaluating arithmetic expressions in Python\n",
    "\n",
    "An arithmetic expression is a combination of numbers and mathematical operators that result in a numerical value. In Python, we can use the following operators to perform arithmetic operations:\n",
    "\n",
    "- Addition: +\n",
    "- Subtraction: -\n",
    "- Multiplication: *\n",
    "- Division: /\n",
    "- Modulus: %"
   ]
  },
  {
   "cell_type": "markdown",
   "id": "90847f62",
   "metadata": {},
   "source": [
    "Let's explore some examples:"
   ]
  },
  {
   "cell_type": "markdown",
   "id": "beab6861",
   "metadata": {},
   "source": [
    "## Exercise 8: This a simple arithmetic expression to mutiply then add integers"
   ]
  },
  {
   "cell_type": "code",
   "execution_count": 7,
   "id": "c398f6bd",
   "metadata": {},
   "outputs": [
    {
     "name": "stdout",
     "output_type": "stream",
     "text": [
      "17\n"
     ]
    }
   ],
   "source": [
    "# Addition and multiplication\n",
    "a = 3\n",
    "b = 4\n",
    "c = 5\n",
    "d = (a*b)+5\n",
    "\n",
    "print(d)"
   ]
  },
  {
   "cell_type": "code",
   "execution_count": 8,
   "id": "b6f27591",
   "metadata": {},
   "outputs": [
    {
     "name": "stdout",
     "output_type": "stream",
     "text": [
      "5.666666666666667\n",
      "2\n"
     ]
    }
   ],
   "source": [
    "# Division and modulus\n",
    "e = 17\n",
    "f = 3\n",
    "g = e / f\n",
    "h = e % f\n",
    "print(g)\n",
    "print(h)"
   ]
  },
  {
   "cell_type": "markdown",
   "id": "564b078c",
   "metadata": {},
   "source": [
    "## Exercise 9: This will convert 200 minutes to hours by diving by 60"
   ]
  },
  {
   "cell_type": "code",
   "execution_count": 9,
   "id": "3ed7534b",
   "metadata": {},
   "outputs": [
    {
     "name": "stdout",
     "output_type": "stream",
     "text": [
      "3.3333333333333335\n"
     ]
    }
   ],
   "source": [
    "minutes = 200\n",
    "hours = minutes / 60\n",
    "print(hours)"
   ]
  },
  {
   "cell_type": "markdown",
   "id": "3fb1385b",
   "metadata": {},
   "source": [
    "## Exercise 10: Objectives\n",
    "\n",
    "The main objectives of this notebook are to:\n",
    "\n",
    "- Introduce the fundamental concepts of Data Science\n",
    "- Familiarize with popular programming languages and libraries\n",
    "- Explore different Data Science tools\n",
    "- Learn arithmetic expressions and how to perform basic calculations in Python."
   ]
  },
  {
   "cell_type": "markdown",
   "id": "9d80d100",
   "metadata": {},
   "source": [
    "List popular languages for Data\n",
    "\n",
    "- Python\n",
    "- R\n",
    "- SQL\n",
    "- Julia\n",
    "- Scala"
   ]
  },
  {
   "cell_type": "markdown",
   "id": "45e52a29",
   "metadata": {},
   "source": [
    "## Exercise 11: Author\n",
    "\n",
    "This notebook was created by **[Eale Ekofiongo]**."
   ]
  },
  {
   "cell_type": "code",
   "execution_count": null,
   "id": "1cae9a5d",
   "metadata": {},
   "outputs": [],
   "source": []
  }
 ],
 "metadata": {
  "kernelspec": {
   "display_name": "Python 3 (ipykernel)",
   "language": "python",
   "name": "python3"
  },
  "language_info": {
   "codemirror_mode": {
    "name": "ipython",
    "version": 3
   },
   "file_extension": ".py",
   "mimetype": "text/x-python",
   "name": "python",
   "nbconvert_exporter": "python",
   "pygments_lexer": "ipython3",
   "version": "3.7.15"
  }
 },
 "nbformat": 4,
 "nbformat_minor": 5
}
